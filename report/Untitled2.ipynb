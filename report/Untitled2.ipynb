{
 "cells": [
  {
   "cell_type": "code",
   "execution_count": 1,
   "metadata": {},
   "outputs": [
    {
     "ename": "NameError",
     "evalue": "name 'subplot' is not defined",
     "output_type": "error",
     "traceback": [
      "\u001b[1;31m---------------------------------------------------------------------------\u001b[0m",
      "\u001b[1;31mNameError\u001b[0m                                 Traceback (most recent call last)",
      "\u001b[1;32m<ipython-input-1-8226dbb80b9d>\u001b[0m in \u001b[0;36m<module>\u001b[1;34m()\u001b[0m\n\u001b[0;32m     55\u001b[0m \u001b[0my5\u001b[0m\u001b[1;33m=\u001b[0m\u001b[1;36m16\u001b[0m\u001b[1;33m/\u001b[0m\u001b[1;36m3\u001b[0m\u001b[1;33m-\u001b[0m\u001b[1;36m2\u001b[0m\u001b[1;33m/\u001b[0m\u001b[1;36m3\u001b[0m\u001b[1;33m*\u001b[0m\u001b[0mt\u001b[0m\u001b[1;33m\u001b[0m\u001b[0m\n\u001b[0;32m     56\u001b[0m \u001b[0mplt\u001b[0m\u001b[1;33m.\u001b[0m\u001b[0mfigure\u001b[0m\u001b[1;33m(\u001b[0m\u001b[1;33m)\u001b[0m\u001b[1;33m\u001b[0m\u001b[0m\n\u001b[1;32m---> 57\u001b[1;33m \u001b[0max\u001b[0m \u001b[1;33m=\u001b[0m \u001b[0msubplot\u001b[0m\u001b[1;33m(\u001b[0m\u001b[1;36m111\u001b[0m\u001b[1;33m,\u001b[0m \u001b[0maspect\u001b[0m\u001b[1;33m=\u001b[0m\u001b[1;34m'equal'\u001b[0m\u001b[1;33m)\u001b[0m\u001b[1;33m\u001b[0m\u001b[0m\n\u001b[0m\u001b[0;32m     58\u001b[0m \u001b[0mplt\u001b[0m\u001b[1;33m.\u001b[0m\u001b[0mplot\u001b[0m\u001b[1;33m(\u001b[0m\u001b[0mt\u001b[0m\u001b[1;33m,\u001b[0m \u001b[0my1\u001b[0m\u001b[1;33m,\u001b[0m \u001b[0mlabel\u001b[0m\u001b[1;33m=\u001b[0m\u001b[1;34m\"x1+2x2 <= 10\"\u001b[0m\u001b[1;33m)\u001b[0m\u001b[1;33m\u001b[0m\u001b[0m\n\u001b[0;32m     59\u001b[0m \u001b[0mplt\u001b[0m\u001b[1;33m.\u001b[0m\u001b[0mplot\u001b[0m\u001b[1;33m(\u001b[0m\u001b[0mt\u001b[0m\u001b[1;33m,\u001b[0m \u001b[0my2\u001b[0m\u001b[1;33m,\u001b[0m \u001b[0mlabel\u001b[0m\u001b[1;33m=\u001b[0m\u001b[1;34m\"2x1+x2<=8\"\u001b[0m\u001b[1;33m)\u001b[0m\u001b[1;33m\u001b[0m\u001b[0m\n",
      "\u001b[1;31mNameError\u001b[0m: name 'subplot' is not defined"
     ]
    }
   ],
   "source": [
    "import numpy as np\n",
    "import matplotlib.pyplot as plt\n",
    "def karmarkar_method(x, c, amat, b,gamma, eps):\n",
    "    \"\"\"\n",
    "    Karmarkar法による線形計画問題の解法\n",
    "    object  min z = c^T * x\n",
    "    subject Ax <= b\n",
    "    \"\"\"\n",
    "    yield x\n",
    "    while True:\n",
    "        vk = b - amat * x\n",
    "        gmat = amat.T * np.diag(1.0 / np.square(vk.A1)) * amat\n",
    "        d = np.linalg.pinv(gmat) * c\n",
    "        if np.linalg.norm(d) < eps:\n",
    "            break\n",
    "        hv = -amat * d\n",
    "        if np.max(hv) <= 0:\n",
    "            print(\"Unbounded!\")\n",
    "            x = None\n",
    "            break\n",
    "        alpha = gamma * np.min(vk[hv > 0] / hv[hv > 0])\n",
    "        x -= alpha * d\n",
    "        yield x\n",
    "        #print(x)\n",
    "    #return x\n",
    "\n",
    "a=[[1,2,10],\n",
    "   [2,1,8],\n",
    "   [600,900]]\n",
    "\n",
    "c = np.matrix([[-600],\n",
    "               [-900]])\n",
    "amat = np.matrix([[1,2],\n",
    "                  [2,1]])\n",
    "b = np.matrix([[10],\n",
    "               [8]])\n",
    "\n",
    "\n",
    "\n",
    "'''\n",
    "# 描画\n",
    "ax = subplot(111, aspect='equal')\n",
    "t = np.linspace(0, 10, 100)\n",
    "func = lambda x, y : c[0, 0] * x + c[1, 0] * y\n",
    "const = [lambda x : -amat[0, 0] / amat[0, 1] * x + b[0, 0] / amat[0, 1],\n",
    "         lambda x : -amat[1, 0] / amat[1, 1] * x + b[1, 0] / amat[1, 1]]\n",
    "s = [const[i](t) for i in range(2)]\n",
    "'''\n",
    "t = np.linspace(0, 10, 100)\n",
    "y1 = 5 - 0.5*t\n",
    "y2 =  8 - 2*t\n",
    "y3 = np.zeros_like(t)\n",
    "y4 = np.minimum(y1, y2)\n",
    "\n",
    "y5=16/3-2/3*t\n",
    "plt.figure()\n",
    "ax = subplot(111, aspect='equal')\n",
    "plt.plot(t, y1, label=\"x1+2x2 <= 10\")\n",
    "plt.plot(t, y2, label=\"2x1+x2<=8\")\n",
    "plt.plot(t, y5, label=\"f\")\n",
    "plt.fill_between(t, y3, y4, where=y4>y3, facecolor='blue', alpha=0.3)\n",
    "plt.ylim(0, 8.5)\n",
    "plt.xlim(0, 10)\n",
    "plt.legend(loc=0)\n",
    "for i in range(2):\n",
    "    plt.plot(t, s[i], 'k')\n",
    "plt.xlim(0, 10)\n",
    "plt.ylim(0, 8.5)\n",
    "'''\n",
    "for x in karmarkar_method(np.matrix([[1.0], [1.0]]), c, amat, b, gamma=0.3, eps=1.0e-5):\n",
    "    print(x) \n",
    "    plt.plot([x[0,0]], [x[1,0]],'ro')\n",
    "    plt.ylim(0, 8.5)\n",
    "'''\n",
    "\n",
    "show()"
   ]
  },
  {
   "cell_type": "code",
   "execution_count": null,
   "metadata": {},
   "outputs": [],
   "source": []
  }
 ],
 "metadata": {
  "kernelspec": {
   "display_name": "Python 3",
   "language": "python",
   "name": "python3"
  },
  "language_info": {
   "codemirror_mode": {
    "name": "ipython",
    "version": 3
   },
   "file_extension": ".py",
   "mimetype": "text/x-python",
   "name": "python",
   "nbconvert_exporter": "python",
   "pygments_lexer": "ipython3",
   "version": "3.6.5"
  }
 },
 "nbformat": 4,
 "nbformat_minor": 2
}
